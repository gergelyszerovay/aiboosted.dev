{
 "cells": [
  {
   "cell_type": "markdown",
   "id": "3d58ffd9-ab2f-42f8-96a3-7bf861309b1b",
   "metadata": {},
   "source": [
    "### Output cells"
   ]
  },
  {
   "cell_type": "code",
   "execution_count": 1,
   "id": "63f86cb0-cd81-427d-99ae-d6252826fbf1",
   "metadata": {},
   "outputs": [
    {
     "name": "stdout",
     "output_type": "stream",
     "text": [
      "Hello Deno!\n"
     ]
    }
   ],
   "source": [
    "console.log('Hello Deno!')"
   ]
  },
  {
   "cell_type": "code",
   "execution_count": 7,
   "id": "89b8e9de-1671-44d6-a319-c3789d3c4eec",
   "metadata": {},
   "outputs": [
    {
     "data": {
      "text/html": [
       "<h4>Hello Deno!</h4>"
      ]
     },
     "execution_count": 7,
     "metadata": {},
     "output_type": "execute_result"
    }
   ],
   "source": [
    "import { html } from \"https://deno.land/x/display/mod.ts\";\n",
    "html`<h4>Hello Deno!</h4>`;"
   ]
  },
  {
   "cell_type": "code",
   "execution_count": 6,
   "id": "917b874a-2a41-4844-97da-a57edf2f3d41",
   "metadata": {},
   "outputs": [
    {
     "data": {
      "text/markdown": [
       "#### Hello Deno!"
      ]
     },
     "execution_count": 6,
     "metadata": {},
     "output_type": "execute_result"
    }
   ],
   "source": [
    "import { md } from \"https://deno.land/x/display/mod.ts\";\n",
    "md`#### Hello Deno!`;"
   ]
  },
  {
   "cell_type": "markdown",
   "id": "01dcd7fc-b2b9-470b-9d8d-ea85c7c9d7d3",
   "metadata": {},
   "source": [
    "\n",
    "## Loading a dotenv file"
   ]
  },
  {
   "cell_type": "code",
   "execution_count": 3,
   "id": "072ab300-fbd7-4d4e-9703-2c64446b93ed",
   "metadata": {},
   "outputs": [
    {
     "data": {
      "text/plain": [
       "[Module: null prototype] {  }"
      ]
     },
     "execution_count": 3,
     "metadata": {},
     "output_type": "execute_result"
    }
   ],
   "source": [
    "// auto-load .env\n",
    "import \"https://deno.land/std@0.215.0/dotenv/load.ts\";"
   ]
  },
  {
   "cell_type": "code",
   "execution_count": 4,
   "id": "fe74e244-4564-42b3-833e-b21c587f19a8",
   "metadata": {},
   "outputs": [
    {
     "name": "stdout",
     "output_type": "stream",
     "text": [
      "[insert your key here]\n"
     ]
    }
   ],
   "source": [
    "console.log(Deno.env.get(\"OPENAI_API_KEY\"));"
   ]
  },
  {
   "cell_type": "markdown",
   "id": "2ff48bee-2bfd-469b-9eee-0bdad262cfcf",
   "metadata": {},
   "source": [
    "### Importing .ts files"
   ]
  },
  {
   "cell_type": "code",
   "execution_count": 5,
   "id": "aa09af9f-ee51-4793-b750-95a7367acc23",
   "metadata": {},
   "outputs": [
    {
     "name": "stdout",
     "output_type": "stream",
     "text": [
      "f1\n"
     ]
    }
   ],
   "source": [
    "import { f1 } from './1.ts';\n",
    "\n",
    "f1();\n"
   ]
  },
  {
   "cell_type": "markdown",
   "id": "f16ff215-2277-4c46-929b-b5c5b50c3418",
   "metadata": {},
   "source": [
    "### Importing .json files"
   ]
  },
  {
   "cell_type": "code",
   "execution_count": 2,
   "id": "78c93827-35fa-40de-aeb2-33379da444d0",
   "metadata": {},
   "outputs": [
    {
     "name": "stdout",
     "output_type": "stream",
     "text": [
      "{ attr1: \u001b[33m2\u001b[39m }\n"
     ]
    }
   ],
   "source": [
    "// https://deno.com/blog/v1.37#import-attributes\n",
    "import jsonData from \"./data.json\" with { type: \"json\" };\n",
    "console.log(jsonData);"
   ]
  }
 ],
 "metadata": {
  "kernelspec": {
   "display_name": "Deno",
   "language": "typescript",
   "name": "deno"
  },
  "language_info": {
   "file_extension": ".ts",
   "mimetype": "text/x.typescript",
   "name": "typescript",
   "nb_converter": "script",
   "pygments_lexer": "typescript",
   "version": "5.4.3"
  }
 },
 "nbformat": 4,
 "nbformat_minor": 5
}
