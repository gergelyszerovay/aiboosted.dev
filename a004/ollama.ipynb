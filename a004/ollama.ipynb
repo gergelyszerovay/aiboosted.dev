{
 "cells": [
  {
   "cell_type": "markdown",
   "id": "9e7b6ae6-6931-4da3-913f-6b80b38a572a",
   "metadata": {},
   "source": [
    "## [AIBoosted.dev](https://aiboosted.dev)\n",
    "### A basic Langchain.js chain with prompt template, structured JSON output and Ollama LLMs\n",
    "\n",
    "In this example, in this example I show you a basic LLM chain, that can review and improve a text. We create a basic LLM chain using LangChain.js. \n",
    "We use prompt templates, and ask for structured JSON output."
   ]
  },
  {
   "cell_type": "markdown",
   "id": "1edceb05-9068-4822-abad-9a0429e47cbb",
   "metadata": {},
   "source": [
    "**To run this notebook locally, set up your own local Jupyter dev environment: [Create an AI prototyping environment using Jupyter Lab IDE with Typescript, LangChain.js and Ollama for rapid AI prototyping](https://www.aiboosted.dev/p/install-jupyter-lab-deno-typescript-prototyping)**"
   ]
  },
  {
   "cell_type": "code",
   "execution_count": 1,
   "id": "1f454738-e7b4-457f-89ac-adb8a4a217b3",
   "metadata": {},
   "outputs": [
    {
     "data": {
      "text/plain": [
       "[Module: null prototype] {  }"
      ]
     },
     "execution_count": 1,
     "metadata": {},
     "output_type": "execute_result"
    }
   ],
   "source": [
    "// auto-load .env\n",
    "import \"https://deno.land/std@0.215.0/dotenv/load.ts\";"
   ]
  },
  {
   "cell_type": "code",
   "execution_count": 2,
   "id": "cf62745c-bcb9-4622-a1d5-d2bcd63e26c1",
   "metadata": {},
   "outputs": [],
   "source": [
    "import { z } from \"npm:zod\";\n",
    "import { zodToJsonSchema } from \"npm:zod-to-json-schema\";\n",
    "import { OllamaFunctions } from \"npm:@langchain/community@~0.2/experimental/chat_models/ollama_functions\";\n",
    "import { PromptTemplate } from \"npm:@langchain/core@~0.2/prompts\";\n",
    "import { JsonOutputFunctionsParser } from \"npm:@langchain/core@~0.2/output_parsers/openai_functions\";"
   ]
  },
  {
   "cell_type": "code",
   "execution_count": 3,
   "id": "6e0e5b17-75a2-43df-a440-7f3d30f2ff67",
   "metadata": {},
   "outputs": [],
   "source": [
    "/**\n",
    " * Processes a given text using a language model to review and correct it based on the provided instruction.\n",
    " * \n",
    " * @param instruction - Instruction for the language model on how to process the text.\n",
    " * @param inputText - The text that needs to be reviewed and corrected.\n",
    " * @returns The reviewed text if successful, otherwise undefined.\n",
    " */\n",
    "async function reviewTextOllama(instruction: string, inputText: string): Promise<string | undefined> {\n",
    "  // Create a prompt template by combining the instruction and input text\n",
    "  const prompt = PromptTemplate.fromTemplate(\n",
    "`{instruction}\n",
    "---\n",
    "{inputText}`);\n",
    "\n",
    "  // Define a schema for the expected output using zod\n",
    "  const reviewedTextSchema = z.object({\n",
    "    reviewedText: z.string().describe(\"The reviewed text.\") // Define the structure and description of the reviewed text\n",
    "  });\n",
    "  type ReviewedTextSchema = z.infer<typeof reviewedTextSchema>; // Infer the TypeScript type from the zod schema\n",
    "\n",
    "  // Initialize the language model with specific configuration\n",
    "  const llm = new OllamaFunctions({\n",
    "    baseUrl: \"http://localhost:11434\", // Base URL for the language model server\n",
    "    model: \"codellama:7b-code\", // Specify the model to use\n",
    "    verbose: false, // Disable verbose logging\n",
    "  }).bind({\n",
    "    functions: [\n",
    "      {\n",
    "        name: \"storeResultTool\", // Function name used in the language model\n",
    "        description: \"Gets the reviewed text\", // Description of the function\n",
    "        parameters: {\n",
    "          type: \"object\", // Define the type of parameters expected by the function\n",
    "          properties: zodToJsonSchema(reviewedTextSchema), // Convert zod schema to JSON schema\n",
    "        },\n",
    "      },\n",
    "    ],\n",
    "    function_call: {\n",
    "      name: \"storeResultTool\", // Specify the function to be called\n",
    "    },\n",
    "  });\n",
    "\n",
    "  // Create a processing chain: prompt -> language model -> JSON output parser\n",
    "  const chain = prompt.pipe(llm).pipe(new JsonOutputFunctionsParser());\n",
    "  \n",
    "  // Invoke the chain with the instruction and input text\n",
    "  const response = await chain.invoke({ instruction, inputText });\n",
    "  \n",
    "  // Return the reviewed text if available\n",
    "  return response?.reviewedText;\n",
    "}"
   ]
  },
  {
   "cell_type": "code",
   "execution_count": null,
   "id": "2c6b43fc-d343-4204-8ce8-2c90442c4aff",
   "metadata": {},
   "outputs": [],
   "source": [
    "// Define the instruction and input text for the prompt\n",
    "const instruction = \"Fix the grammar issues in the following text.\";\n",
    "const inputText = \"How to stays relevant as the developer in the world of ai?\";\n",
    "\n",
    "// Log the result of the review function\n",
    "console.log(await reviewTextOllama(instruction, inputText));"
   ]
  }
 ],
 "metadata": {
  "kernelspec": {
   "display_name": "Deno",
   "language": "typescript",
   "name": "deno"
  },
  "language_info": {
   "file_extension": ".ts",
   "mimetype": "text/x.typescript",
   "name": "typescript",
   "nb_converter": "script",
   "pygments_lexer": "typescript",
   "version": "5.4.3"
  }
 },
 "nbformat": 4,
 "nbformat_minor": 5
}
